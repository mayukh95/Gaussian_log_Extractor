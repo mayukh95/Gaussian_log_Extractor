{
 "cells": [
  {
   "cell_type": "markdown",
   "metadata": {},
   "source": [
    "# Preparation"
   ]
  },
  {
   "cell_type": "code",
   "execution_count": null,
   "metadata": {},
   "outputs": [],
   "source": [
    "!pip install cclib\n",
    "!pip install py3Dmol\n",
    "\n",
    "import cclib\n",
    "import os\n",
    "import py3Dmol\n",
    "import matplotlib.colors as mcolors\n",
    "from cclib.parser.utils import PeriodicTable\n",
    "import numpy as np"
   ]
  },
  {
   "cell_type": "markdown",
   "metadata": {},
   "source": [
    "## Extract structures"
   ]
  },
  {
   "cell_type": "code",
   "execution_count": null,
   "metadata": {},
   "outputs": [],
   "source": [
    "# Parse the Gaussian output file\n",
    "log_file_path = 'path/to/log/file/gaussian.log'\n",
    "data = cclib.io.ccread(log_file_path)\n",
    "\n",
    "# Get the final optimized coordinates\n",
    "final_coords = data.atomcoords[-1]\n",
    "\n",
    "# Get the atomic numbers\n",
    "atomic_numbers = data.atomnos\n",
    "\n",
    "# Get the atomic symbols\n",
    "atomic_symbols = [cclib.parser.utils.PeriodicTable().element[Z] for Z in atomic_numbers]\n",
    "\n",
    "# Print the coordinates in XYZ format\n",
    "print(len(atomic_numbers))\n",
    "print(\"Final optimized geometry\")\n",
    "for symbol, coords in zip(atomic_symbols, final_coords):\n",
    "    print(f\"{symbol} {coords[0]:.6f} {coords[1]:.6f} {coords[2]:.6f}\")\n",
    "\n",
    "# Create XYZ string\n",
    "xyz = f\"{len(atomic_symbols)}\\nOptimized structure\\n\"\n",
    "for symbol, coords in zip(atomic_symbols, final_coords):\n",
    "    xyz += f\"{symbol} {coords[0]:.6f} {coords[1]:.6f} {coords[2]:.6f}\\n\""
   ]
  },
  {
   "cell_type": "markdown",
   "metadata": {},
   "source": [
    "## Visualize the Molecule"
   ]
  },
  {
   "cell_type": "code",
   "execution_count": null,
   "metadata": {},
   "outputs": [],
   "source": [
    "# Create a py3Dmol view\n",
    "view = py3Dmol.view(width=800, height=400)\n",
    "view.addModel(xyz, \"xyz\")\n",
    "view.setStyle({'stick': {}})\n",
    "view.zoomTo()\n",
    "view.setStyle({'sphere':{'radius':0.3}, 'stick':{'radius':0.2}})\n",
    "\n",
    "# Show the view\n",
    "view.show()"
   ]
  },
  {
   "cell_type": "markdown",
   "metadata": {},
   "source": [
    "### Extract relevent data"
   ]
  },
  {
   "cell_type": "code",
   "execution_count": null,
   "metadata": {},
   "outputs": [],
   "source": [
    "def extract_gaussian_data(log_file_path):\n",
    "    # Check if the file exists\n",
    "    if not os.path.exists(log_file_path):\n",
    "        raise FileNotFoundError(f\"The file {log_file_path} does not exist.\")\n",
    "\n",
    "    # Parse the Gaussian log file\n",
    "    parser = cclib.io.ccopen(log_file_path)\n",
    "    data = parser.parse()\n",
    "\n",
    "    # Create a dictionary to store all the extracted information\n",
    "    gaussian_data = {}\n",
    "\n",
    "    # Extract general information\n",
    "    try:\n",
    "        gaussian_data['number_of_atoms'] = data.natom\n",
    "        gaussian_data['atom_numbers'] = data.atomnos\n",
    "        gaussian_data['atom_coordinates'] = data.atomcoords\n",
    "        gaussian_data['charge'] = data.charge\n",
    "        gaussian_data['multiplicity'] = data.mult\n",
    "    except AttributeError:\n",
    "        pass\n",
    "\n",
    "    # Extract SCF and energy-related information\n",
    "    try:\n",
    "        gaussian_data['scf_energies'] = data.scfenergies\n",
    "        gaussian_data['final_energy'] = data.scfenergies[-1] if len(data.scfenergies) > 0 else None\n",
    "    except AttributeError:\n",
    "        pass\n",
    "\n",
    "    try:\n",
    "        gaussian_data['mpenergies'] = data.mpenergies\n",
    "    except AttributeError:\n",
    "        pass\n",
    "\n",
    "    try:\n",
    "        gaussian_data['ccenergies'] = data.ccenergies\n",
    "    except AttributeError:\n",
    "        pass\n",
    "\n",
    "    # Extract convergence and optimization information\n",
    "    try:\n",
    "        gaussian_data['geometric_optimization'] = data.optstatus\n",
    "    except AttributeError:\n",
    "        pass\n",
    "\n",
    "    # Extract vibrational frequencies and thermochemistry\n",
    "    try:\n",
    "        gaussian_data['vibrational_frequencies'] = data.vibfreqs\n",
    "        gaussian_data['vibrational_intensities'] = data.vibirs\n",
    "    except AttributeError:\n",
    "        pass\n",
    "\n",
    "    # Extract molecular orbital information\n",
    "    try:\n",
    "        gaussian_data['mo_energies'] = data.moenergies\n",
    "        if len(data.moenergies) > 0 and isinstance(data.homos, int) and len(data.moenergies[0]) > data.homos + 1:\n",
    "            gaussian_data['homo_lumo_gap'] = (np.max(data.moenergies[0][:data.homos + 1]) -\n",
    "                                              np.min(data.moenergies[0][data.homos + 1:]))\n",
    "        else:\n",
    "            gaussian_data['homo_lumo_gap'] = None\n",
    "        gaussian_data['number_of_homos'] = data.homos\n",
    "        gaussian_data['mocoefficients'] = data.mocoeffs\n",
    "    except AttributeError:\n",
    "        pass\n",
    "\n",
    "    # Extract basis set information\n",
    "    try:\n",
    "        gaussian_data['gbasis'] = data.gbasis\n",
    "    except AttributeError:\n",
    "        pass\n",
    "\n",
    "    # Extract dipole moments and other properties\n",
    "    try:\n",
    "        gaussian_data['dipole_moment'] = data.dipolemoment\n",
    "    except AttributeError:\n",
    "        pass\n",
    "\n",
    "    try:\n",
    "        gaussian_data['mulliken_charges'] = data.atomcharges.get('mulliken')\n",
    "    except AttributeError:\n",
    "        pass\n",
    "\n",
    "    try:\n",
    "        gaussian_data['nbo_charges'] = data.atomcharges.get('nbo')\n",
    "    except AttributeError:\n",
    "        pass\n",
    "\n",
    "\n",
    "    # Print all the extracted data\n",
    "    #for key, value in gaussian_data.items():\n",
    "    #    print(f\"{key}: {value}\\n\")\n",
    "\n",
    "    return gaussian_data\n",
    "\n",
    "# Usage\n",
    "try:\n",
    "    gaussian_data = extract_gaussian_data(log_file_path)\n",
    "except Exception as e:\n",
    "    print(f\"Error: {str(e)}\")\n",
    "\n",
    "    # Convert the dictionary to a pandas DataFrame\n",
    "gaussian_df = pd.DataFrame({key: [value] if not isinstance(value, list) else value for key, value in gaussian_data.items()})"
   ]
  },
  {
   "cell_type": "markdown",
   "metadata": {},
   "source": [
    "### All QM informations"
   ]
  },
  {
   "cell_type": "code",
   "execution_count": null,
   "metadata": {},
   "outputs": [],
   "source": [
    "gaussian_df"
   ]
  },
  {
   "cell_type": "markdown",
   "metadata": {},
   "source": [
    "## Plot SCF Energies"
   ]
  },
  {
   "cell_type": "code",
   "execution_count": null,
   "metadata": {},
   "outputs": [],
   "source": [
    "plt.plot(gaussian_df['scf_energies'].iloc[0], marker='o')\n",
    "plt.xlabel('SCF Cycle')\n",
    "plt.ylabel('SCF Energy (a.u.)')\n",
    "plt.title('SCF Energies Convergence')\n",
    "plt.grid()\n",
    "plt.show()"
   ]
  },
  {
   "cell_type": "markdown",
   "metadata": {},
   "source": [
    "## Visualize Mulliken Charges"
   ]
  },
  {
   "cell_type": "code",
   "execution_count": null,
   "metadata": {},
   "outputs": [],
   "source": [
    "def visualize_molecular_structure(log_file_path):\n",
    "    # Check if the file exists\n",
    "    if not os.path.exists(log_file_path):\n",
    "        raise FileNotFoundError(f\"The file {log_file_path} does not exist.\")\n",
    "\n",
    "    # Parse the Gaussian log file\n",
    "    parser = cclib.io.ccopen(log_file_path)\n",
    "    data = parser.parse()\n",
    "\n",
    "    # Extract atomic coordinates, atomic numbers, and Mulliken charges\n",
    "    try:\n",
    "        atom_coordinates = data.atomcoords[-1]  # Use the final geometry\n",
    "        atom_numbers = data.atomnos  # Atomic numbers\n",
    "        mulliken_charges = data.atomcharges.get('mulliken')  # Mulliken charges\n",
    "    except AttributeError:\n",
    "        raise ValueError(\"The log file does not contain the required information (atomic coordinates, atomic numbers, or Mulliken charges).\")\n",
    "\n",
    "    if mulliken_charges is None:\n",
    "        raise ValueError(\"Mulliken charges not found in the Gaussian log file.\")\n",
    "\n",
    "    # Normalize Mulliken charges for color mapping (red for negative, blue for positive)\n",
    "    norm = mcolors.Normalize(vmin=min(mulliken_charges), vmax=max(mulliken_charges))\n",
    "    cmap = cm.get_cmap('bwr')  # Red to blue color map\n",
    "    color_values = [cmap(norm(charge)) for charge in mulliken_charges]\n",
    "    color_values = ['#{:02x}{:02x}{:02x}'.format(int(r * 255), int(g * 255), int(b * 255)) for r, g, b, _ in color_values]\n",
    "\n",
    "    # Create XYZ format string from extracted data\n",
    "    pt = PeriodicTable()\n",
    "    xyz_string = f\"{len(atom_numbers)}\\nMolecular Structure\\n\"\n",
    "    for atom_number, (x, y, z) in zip(atom_numbers, atom_coordinates):\n",
    "        xyz_string += f\"{pt.element[atom_number]} {x:.4f} {y:.4f} {z:.4f}\\n\"\n",
    "\n",
    "    # Set up 3Dmol.js viewer using py3Dmol\n",
    "    view = py3Dmol.view(width=800, height=600)\n",
    "    view.addModel(xyz_string, \"xyz\")\n",
    "    for i, color in enumerate(color_values):\n",
    "        view.setStyle({'serial': i + 1}, {'sphere': {'color': color, 'radius': 0.5}, 'stick': {}})\n",
    "    view.zoomTo()\n",
    "    view.show()\n",
    "\n",
    "\n",
    "try:\n",
    "    visualize_molecular_structure(log_file_path)\n",
    "except Exception as e:\n",
    "    print(f\"Error: {str(e)}\")"
   ]
  }
 ],
 "metadata": {
  "kernelspec": {
   "display_name": "nanopore_tensorflow",
   "language": "python",
   "name": "python3"
  },
  "language_info": {
   "codemirror_mode": {
    "name": "ipython",
    "version": 3
   },
   "file_extension": ".py",
   "mimetype": "text/x-python",
   "name": "python",
   "nbconvert_exporter": "python",
   "pygments_lexer": "ipython3",
   "version": "3.12.5"
  }
 },
 "nbformat": 4,
 "nbformat_minor": 2
}
